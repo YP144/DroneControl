{
 "cells": [
  {
   "cell_type": "code",
   "execution_count": null,
   "metadata": {},
   "outputs": [],
   "source": [
    "import cv2\n",
    "import os\n",
    "\n",
    "letakVidio = \"\"\n",
    "file_counter = 1\n",
    "output_folder = 'frames'\n",
    "cap = cv2.VideoCapture(letakVidio)\n",
    "ret = True\n",
    "while ret == True:\n",
    "    ret, frame = cap.read()\n",
    "    \n",
    "    if ret:\n",
    "        filename = os.path.join(output_folder, f'frame_{file_counter:04d}.png')\n",
    "        cv2.imwrite(filename, frame)\n",
    "        file_counter += 1"
   ]
  }
 ],
 "metadata": {
  "kernelspec": {
   "display_name": "Python 3",
   "language": "python",
   "name": "python3"
  },
  "language_info": {
   "name": "python",
   "version": "3.12.1"
  }
 },
 "nbformat": 4,
 "nbformat_minor": 2
}
